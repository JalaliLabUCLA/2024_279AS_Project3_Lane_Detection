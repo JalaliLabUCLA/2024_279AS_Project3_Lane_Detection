{
 "cells": [
  {
   "cell_type": "code",
   "execution_count": 1,
   "metadata": {},
   "outputs": [],
   "source": [
    "import os \n",
    "import numpy as np\n",
    "import matplotlib.pylab as plt\n",
    "from itertools import zip_longest\n",
    "import torch\n",
    "from torch.utils.data import Dataset, DataLoader\n",
    "import pandas as pd\n",
    "import json\n",
    "import collections\n",
    "import phycv\n",
    "from phycv import PST, PST_GPU,VEVID,VEVID_GPU\n",
    "import matplotlib.image as mpimg\n",
    "from PIL import Image\n",
    "from io import BytesIO\n",
    "import cv2\n",
    "import tqdm\n",
    "import torchvision.transforms as transforms\n",
    "import copy\n",
    "from PIL import Image"
   ]
  },
  {
   "cell_type": "code",
   "execution_count": 1,
   "metadata": {},
   "outputs": [],
   "source": [
    "class DataProcesser:\n",
    "    def __init__(self,input_directory=\"../bdd100k/images/100k/\",output_directory=\"../bdd100k_preprocessed/images/\",labels_path = '../bdd100k/labels/',train=True,mode=2):\n",
    "        if train:\n",
    "            self.mode = \"train\"\n",
    "        else:\n",
    "            self.mode = \"val\"\n",
    "        self.input_directory=os.path.join(input_directory,self.mode)\n",
    "        self.output_directory=os.path.join(output_directory,self.mode)\n",
    "        self.labels_path=labels_path\n",
    "        if mode==2:\n",
    "            self.df = self.open_dataframe2()\n",
    "        else:\n",
    "            self.df = self.open_dataframe()\n",
    "    \n",
    "    def process_images(self,mode=2):\n",
    "        def process(name):\n",
    "            if mode==2:\n",
    "                return name+\".jpg\"\n",
    "            else:\n",
    "                return name\n",
    "        def helper(name,time):\n",
    "            if time==\"night\":\n",
    "                self.process_image_pst_vevid(os.path.join(self.input_directory,name),self.output_directory,name)\n",
    "            else:\n",
    "                self.process_image_pst_vevid(os.path.join(self.input_directory,name),self.output_directory,name,b=None,G=None)\n",
    "        self.df.apply(lambda x: helper(process(x[\"name\"]), x[\"attributes.timeofday\"]), axis=1)\n",
    "    \n",
    "    def open_dataframe(self):\n",
    "        with open(self.labels_path+'bdd100k_labels_images_'+self.mode+'.json') as data_file:\n",
    "            data = json.load(data_file)\n",
    "        df = pd.json_normalize(data)\n",
    "        return df\n",
    "    \n",
    "    def open_dataframe2(self):\n",
    "        data=[]\n",
    "        path = os.path.join(self.labels_path,self.mode)\n",
    "        for f in os.listdir(path):\n",
    "            with open(os.path.join(path,f)) as data_file:\n",
    "                data_ = json.load(data_file)\n",
    "            data.append(data_)\n",
    "        df = pd.json_normalize(data)\n",
    "        return df\n",
    "    \n",
    "    @staticmethod\n",
    "    def process_image_pst_vevid(img_file=None,output_path=None,output_name=None,S=0.4, W=20, sigma_LPF=0.1, thresh_min=0.0,thresh_max=0.8,morph_flag=1,b = 0.2, G = 10):\n",
    "        device = torch.device(\"cuda\" if torch.cuda.is_available() else \"cpu\")\n",
    "        if b is not None:\n",
    "            assert(G is not None)\n",
    "            vevid_gpu = VEVID_GPU(device=device)\n",
    "            original_image = vevid_gpu.run_lite(img_file,b,G)\n",
    "        else:\n",
    "            original_image = transforms.ToTensor()(mpimg.imread(img_file))\n",
    "        if output_path:\n",
    "            if not os.path.exists(output_path):\n",
    "                os.makedirs(output_path)\n",
    "        pst_gpu = PST_GPU(device=device)\n",
    "        pst_gpu.load_img(img_array=original_image)\n",
    "        pst_gpu.init_kernel(S,W)\n",
    "        pst_gpu.apply_kernel(sigma_LPF,thresh_min,thresh_max,morph_flag)\n",
    "        pst_output_gpu_torch=pst_gpu.pst_output\n",
    "        pst_output_gpu = pst_output_gpu_torch.cpu().numpy()\n",
    "        pst_gpu_result = Image.fromarray((pst_output_gpu * 255).astype(np.uint8))\n",
    "        if output_path:\n",
    "            pst_gpu_result.save(os.path.join(output_path, output_name))\n",
    "        return pst_gpu_result"
   ]
  },
  {
   "cell_type": "code",
   "execution_count": 4,
   "metadata": {},
   "outputs": [
    {
     "name": "stderr",
     "output_type": "stream",
     "text": [
      "C:\\Users\\PSH\\anaconda3\\envs\\LaneDetection\\Lib\\site-packages\\torchvision\\transforms\\functional.py:153: UserWarning: The given NumPy array is not writable, and PyTorch does not support non-writable tensors. This means writing to this tensor will result in undefined behavior. You may want to copy the array to protect its data or make it writable before converting it to a tensor. This type of warning will be suppressed for the rest of this program. (Triggered internally at C:\\cb\\pytorch_1000000000000\\work\\torch\\csrc\\utils\\tensor_numpy.cpp:212.)\n",
      "  img = torch.from_numpy(pic.transpose((2, 0, 1))).contiguous()\n"
     ]
    }
   ],
   "source": [
    "#Change labels path to where the label json files are (not including train/ or val/)\n",
    "train_processer = DataProcesser(train=True,labels_path='G:/UCLA/Lane Detection Project/Lane Detection/bdd100k_preprocessed/det_annotations/data2/zwt/bdd/bdd100k/labels/100k')\n",
    "train_processer.process_images()"
   ]
  },
  {
   "cell_type": "code",
   "execution_count": null,
   "metadata": {},
   "outputs": [],
   "source": [
    "val_processer = DataProcesser(train=False,labels_path='./data2/zwt/bdd/bdd100k/labels/100k')\n",
    "val_processer.process_images()"
   ]
  }
 ],
 "metadata": {
  "kernelspec": {
   "display_name": "Python 3 (ipykernel)",
   "language": "python",
   "name": "python3"
  },
  "language_info": {
   "codemirror_mode": {
    "name": "ipython",
    "version": 3
   },
   "file_extension": ".py",
   "mimetype": "text/x-python",
   "name": "python",
   "nbconvert_exporter": "python",
   "pygments_lexer": "ipython3",
   "version": "3.11.7"
  }
 },
 "nbformat": 4,
 "nbformat_minor": 4
}
