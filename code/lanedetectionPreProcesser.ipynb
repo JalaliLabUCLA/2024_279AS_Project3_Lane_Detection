{
 "cells": [
  {
   "cell_type": "code",
   "execution_count": 1,
   "metadata": {},
   "outputs": [],
   "source": [
    "import os \n",
    "import numpy as np\n",
    "import matplotlib.pylab as plt\n",
    "from itertools import zip_longest\n",
    "# import torch\n",
    "# from torch.utils.data import Dataset, DataLoader\n",
    "import pandas as pd\n",
    "import json\n",
    "import collections\n",
    "# import phycv\n",
    "# from phycv import PST, PST_GPU,VEVID,VEVID_GPU\n",
    "import matplotlib.image as mpimg\n",
    "from PIL import Image\n",
    "from io import BytesIO\n",
    "import cv2\n",
    "import tqdm\n",
    "# import torchvision.transforms as transforms\n",
    "import copy\n",
    "from PIL import Image\n",
    "from tqdm import tqdm\n",
    "import shutil\n",
    "tqdm.pandas()"
   ]
  },
  {
   "cell_type": "markdown",
   "metadata": {},
   "source": [
    "## PST Preprocesser"
   ]
  },
  {
   "cell_type": "code",
   "execution_count": 2,
   "metadata": {},
   "outputs": [],
   "source": [
    "class DataProcesser:\n",
    "    def __init__(self,input_directory=\"../bdd100k/images/100k/\",output_directory=\"../bdd100k_preprocessed/images/\",labels_path = '../bdd100k/labels/',train=True,mode=2,df=None):\n",
    "        if train:\n",
    "            self.mode = \"train\"\n",
    "        else:\n",
    "            self.mode = \"val\"\n",
    "        self.input_directory=os.path.join(input_directory,self.mode)\n",
    "        self.output_directory=os.path.join(output_directory,self.mode)\n",
    "        self.labels_path=labels_path\n",
    "        if df is None:\n",
    "            if mode==2:\n",
    "                self.df = self.open_dataframe2()\n",
    "            elif mode==1:\n",
    "                self.df = self.open_dataframe()\n",
    "        else:\n",
    "            self.df = df\n",
    "        \n",
    "    def process_images(self,mode=2,morph_flag=1):\n",
    "        def process(name):\n",
    "            if mode==2:\n",
    "                return name+\".jpg\"\n",
    "            else:\n",
    "                return name\n",
    "        def helper(name,time):\n",
    "            if time==\"night\":\n",
    "                self.process_image_pst_vevid(os.path.join(self.input_directory,name),self.output_directory,name,morph_flag=morph_flag)\n",
    "            else:\n",
    "                self.process_image_pst_vevid(os.path.join(self.input_directory,name),self.output_directory,name,b=None,G=None,morph_flag=morph_flag)\n",
    "        self.df.progress_apply(lambda x: helper(process(x[\"name\"]), x[\"attributes.timeofday\"]), axis=1)\n",
    "    \n",
    "    def open_dataframe(self):\n",
    "        with open(self.labels_path+'bdd100k_labels_images_'+self.mode+'.json') as data_file:\n",
    "            data = json.load(data_file)\n",
    "        df = pd.json_normalize(data)\n",
    "        return df\n",
    "    \n",
    "    def open_dataframe2(self):\n",
    "        data=[]\n",
    "        path = os.path.join(self.labels_path,self.mode)\n",
    "        for f in os.listdir(path):\n",
    "            with open(os.path.join(path,f)) as data_file:\n",
    "                data_ = json.load(data_file)\n",
    "            data.append(data_)\n",
    "        df = pd.json_normalize(data)\n",
    "        return df\n",
    "    \n",
    "    @staticmethod\n",
    "    def process_image_pst_vevid(img_file=None,output_path=None,output_name=None,S=0.4, W=20, sigma_LPF=0.1, thresh_min=0.0,thresh_max=0.8,morph_flag=1,b = 0.2, G = 10):\n",
    "        device = torch.device(\"cuda\" if torch.cuda.is_available() else \"cpu\")\n",
    "        if b is not None:\n",
    "            assert(G is not None)\n",
    "            vevid_gpu = VEVID_GPU(device=device)\n",
    "            original_image = vevid_gpu.run_lite(img_file,b,G)\n",
    "        else:\n",
    "            original_image = transforms.ToTensor()(mpimg.imread(img_file))\n",
    "        if output_path:\n",
    "            if not os.path.exists(output_path):\n",
    "                os.makedirs(output_path)\n",
    "        pst_gpu = PST_GPU(device=device)\n",
    "        pst_gpu.load_img(img_array=original_image)\n",
    "        pst_gpu.init_kernel(S,W)\n",
    "        pst_gpu.apply_kernel(sigma_LPF,thresh_min,thresh_max,morph_flag)\n",
    "        pst_output_gpu_torch=pst_gpu.pst_output\n",
    "        pst_output_gpu = pst_output_gpu_torch.cpu().numpy()\n",
    "        if morph_flag==0:\n",
    "            shape = pst_output_gpu.shape\n",
    "            pst_output_gpu = ((np.argsort(np.argsort(pst_output_gpu.reshape((-1,))))+1)/pst_output_gpu.size).reshape(shape)\n",
    "            fn = lambda x: x**5\n",
    "            pst_output_gpu = fn(pst_output_gpu)\n",
    "        pst_gpu_result = Image.fromarray((pst_output_gpu * 255).astype(np.uint8))\n",
    "        if output_path:\n",
    "            pst_gpu_result.save(os.path.join(output_path, output_name))\n",
    "        return pst_gpu_result\n",
    "    \n",
    "    def conditional_copy(self,weather_condition=None,scene_condition=None,time_of_day=None):\n",
    "        if not os.path.exists(self.output_directory):\n",
    "            os.makedirs(self.output_directory)\n",
    "        tmp = self.df\n",
    "        if weather_condition is not None:\n",
    "            tmp = tmp[tmp[\"attributes.weather\"]==weather_condition]\n",
    "        if scene_condition is not None:\n",
    "            tmp = tmp[tmp[\"attributes.scene\"]==scene_condition]\n",
    "        if time_of_day is not None:\n",
    "            tmp = tmp[tmp[\"attributes.timeofday\"]==time_of_day]\n",
    "        extension = os.path.splitext(os.listdir(self.input_directory)[0])[1]\n",
    "        def copy(file):\n",
    "            name = os.path.join( self.input_directory, file+extension )\n",
    "            if os.path.isfile( name ) :\n",
    "                shutil.copy( name, self.output_directory)\n",
    "            else:\n",
    "                print('file does not exist', name)\n",
    "        tmp[\"name\"].progress_apply(lambda x: copy(x))"
   ]
  },
  {
   "cell_type": "code",
   "execution_count": 39,
   "metadata": {},
   "outputs": [
    {
     "name": "stderr",
     "output_type": "stream",
     "text": [
      "100%|██████████| 70000/70000 [6:40:55<00:00,  2.91it/s]      \n"
     ]
    }
   ],
   "source": [
    "#Change labels path to where the label json files are (not including train/ or val/)\n",
    "train_processer = DataProcesser(train=True,labels_path='./data2/zwt/bdd/bdd100k/labels/100k',output_directory=\"../bdd100k_preprocessed/images/\")\n",
    "train_processer.process_images(morph_flag=1)"
   ]
  },
  {
   "cell_type": "code",
   "execution_count": 40,
   "metadata": {},
   "outputs": [
    {
     "name": "stderr",
     "output_type": "stream",
     "text": [
      "100%|██████████| 10000/10000 [13:40<00:00, 12.19it/s]\n"
     ]
    }
   ],
   "source": [
    "val_processer = DataProcesser(train=False,labels_path='./data2/zwt/bdd/bdd100k/labels/100k',output_directory=\"../bdd100k_preprocessed/images/\")\n",
    "val_processer.process_images(morph_flag=1)"
   ]
  },
  {
   "cell_type": "markdown",
   "metadata": {},
   "source": [
    "## Dark/Fog Images"
   ]
  },
  {
   "cell_type": "code",
   "execution_count": 3,
   "metadata": {},
   "outputs": [],
   "source": [
    "def get_night_foggy_data(input_directories,labels_path = 'G:/UCLA/Lane Detection Project/Lane Detection/bdd100k_preprocessed/det_annotations/data2/zwt/bdd/bdd100k/labels/100k'):\n",
    "    train_df = DataProcesser(train=True,labels_path=labels_path,output_directory=\"\").df\n",
    "    val_df = DataProcesser(train=False,labels_path=labels_path,output_directory=\"\").df\n",
    "    for dir in input_directories:\n",
    "        for t in [True,False]:\n",
    "            for condition in [\"night\",\"foggy\"]:\n",
    "                if dir.endswith('/'):\n",
    "                    dir = dir[:-1]\n",
    "                head,tail = os.path.split(dir)\n",
    "                new_dir = os.path.join(head,tail+\"_\"+condition)\n",
    "                if t:\n",
    "                    processer = DataProcesser(train=t,labels_path=labels_path,input_directory=dir,output_directory=new_dir,df=train_df)\n",
    "                else:\n",
    "                    processer = DataProcesser(train=t,labels_path=labels_path,input_directory=dir,output_directory=new_dir,df=val_df)\n",
    "                if condition==\"night\":\n",
    "                    processer.conditional_copy(time_of_day=\"night\")\n",
    "                else:\n",
    "                    processer.conditional_copy(weather_condition=\"foggy\")"
   ]
  },
  {
   "cell_type": "code",
   "execution_count": 4,
   "metadata": {},
   "outputs": [
    {
     "name": "stderr",
     "output_type": "stream",
     "text": [
      "100%|███████████████████████████████████████████████████████████████████████████████████████████████████████| 28028/28028 [01:30<00:00, 310.01it/s]\n",
      "100%|███████████████████████████████████████████████████████████████████████████████████████████████████████████| 130/130 [00:00<00:00, 257.10it/s]\n",
      "100%|█████████████████████████████████████████████████████████████████████████████████████████████████████████| 3929/3929 [00:12<00:00, 320.04it/s]\n",
      "100%|█████████████████████████████████████████████████████████████████████████████████████████████████████████████| 13/13 [00:00<00:00, 383.38it/s]\n",
      "100%|███████████████████████████████████████████████████████████████████████████████████████████████████████| 28028/28028 [01:33<00:00, 298.26it/s]\n",
      "100%|███████████████████████████████████████████████████████████████████████████████████████████████████████████| 130/130 [00:00<00:00, 322.31it/s]\n",
      "100%|█████████████████████████████████████████████████████████████████████████████████████████████████████████| 3929/3929 [00:14<00:00, 277.22it/s]\n",
      "100%|█████████████████████████████████████████████████████████████████████████████████████████████████████████████| 13/13 [00:00<00:00, 383.38it/s]\n",
      "100%|███████████████████████████████████████████████████████████████████████████████████████████████████████| 28028/28028 [01:05<00:00, 430.64it/s]\n",
      "100%|███████████████████████████████████████████████████████████████████████████████████████████████████████████| 130/130 [00:00<00:00, 538.63it/s]\n",
      "100%|█████████████████████████████████████████████████████████████████████████████████████████████████████████| 3929/3929 [00:08<00:00, 454.91it/s]\n",
      "100%|█████████████████████████████████████████████████████████████████████████████████████████████████████████████| 13/13 [00:00<00:00, 521.39it/s]\n",
      "100%|███████████████████████████████████████████████████████████████████████████████████████████████████████| 28028/28028 [01:02<00:00, 447.33it/s]\n",
      "100%|███████████████████████████████████████████████████████████████████████████████████████████████████████████| 130/130 [00:00<00:00, 534.21it/s]\n",
      "100%|█████████████████████████████████████████████████████████████████████████████████████████████████████████| 3929/3929 [00:08<00:00, 457.39it/s]\n",
      "100%|█████████████████████████████████████████████████████████████████████████████████████████████████████████████| 13/13 [00:00<00:00, 501.35it/s]\n",
      "100%|███████████████████████████████████████████████████████████████████████████████████████████████████████| 28028/28028 [01:03<00:00, 443.33it/s]\n",
      "100%|███████████████████████████████████████████████████████████████████████████████████████████████████████████| 130/130 [00:00<00:00, 547.68it/s]\n",
      "100%|█████████████████████████████████████████████████████████████████████████████████████████████████████████| 3929/3929 [00:08<00:00, 440.54it/s]\n",
      "100%|█████████████████████████████████████████████████████████████████████████████████████████████████████████████| 13/13 [00:00<00:00, 543.09it/s]\n"
     ]
    }
   ],
   "source": [
    "#Put in a list of directories as well as the label path to generate folders with _night and _foggy containing the night and foggy images\n",
    "get_night_foggy_data([\"G:/UCLA/Lane Detection Project/Lane Detection/bdd100k_preprocessed_analog/images\",\"G:/UCLA/Lane Detection Project/Lane Detection/bdd100k_preprocessed/images\",\"G:/UCLA/Lane Detection Project/Lane Detection/bdd100k_preprocessed/ll_seg_annotations/bdd_lane_gt\",\"G:/UCLA/Lane Detection Project/Lane Detection/bdd100k_preprocessed/da_seg_annotations/bdd_seg_gt\",\"G:/UCLA/Lane Detection Project/Lane Detection/bdd100k/images/100k\"])"
   ]
  },
  {
   "cell_type": "code",
   "execution_count": 5,
   "metadata": {},
   "outputs": [
    {
     "name": "stderr",
     "output_type": "stream",
     "text": [
      "100%|██████████████████████████████████████████████████████████████████████████████████████████████████████| 28028/28028 [00:24<00:00, 1121.61it/s]\n",
      "100%|██████████████████████████████████████████████████████████████████████████████████████████████████████████| 130/130 [00:00<00:00, 1195.86it/s]\n",
      "100%|████████████████████████████████████████████████████████████████████████████████████████████████████████| 3929/3929 [00:03<00:00, 1206.72it/s]\n",
      "100%|████████████████████████████████████████████████████████████████████████████████████████████████████████████| 13/13 [00:00<00:00, 1071.97it/s]\n"
     ]
    }
   ],
   "source": [
    "get_night_foggy_data(['G:/UCLA/Lane Detection Project/Lane Detection/bdd100k_preprocessed/det_annotations/data2/zwt/bdd/bdd100k/labels/100k'])"
   ]
  },
  {
   "cell_type": "code",
   "execution_count": null,
   "metadata": {},
   "outputs": [],
   "source": []
  }
 ],
 "metadata": {
  "kernelspec": {
   "display_name": "Python 3 (ipykernel)",
   "language": "python",
   "name": "python3"
  },
  "language_info": {
   "codemirror_mode": {
    "name": "ipython",
    "version": 3
   },
   "file_extension": ".py",
   "mimetype": "text/x-python",
   "name": "python",
   "nbconvert_exporter": "python",
   "pygments_lexer": "ipython3",
   "version": "3.11.7"
  }
 },
 "nbformat": 4,
 "nbformat_minor": 4
}
